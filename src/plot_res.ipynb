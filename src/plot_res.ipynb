{
 "cells": [
  {
   "cell_type": "code",
   "execution_count": 1,
   "metadata": {},
   "outputs": [],
   "source": [
    "from imageNetParser import get_features, get_classes_image_net\n",
    "from index import *\n",
    "import matplotlib.pyplot as plt\n",
    "import model\n",
    "from sklearn.decomposition import PCA\n",
    "from tools import accuracy, split, foreach, random_rank, random_labels, plot_confusion_matrix\n",
    "from sklearn.metrics import confusion_matrix\n",
    "from itertools import product\n",
    "from IStructInstantiation import *\n",
    "import numpy as np\n",
    "from ranking import *\n",
    "import begin\n"
   ]
  },
  {
   "cell_type": "code",
   "execution_count": 2,
   "metadata": {},
   "outputs": [
    {
     "name": "stdout",
     "output_type": "stream",
     "text": [
      "classe évalué :  ambulance\n",
      "baselines : (train : 0.05541666666666667, test : 0.055620511107399365)\n"
     ]
    }
   ],
   "source": [
    "cls = 5\n",
    "dimpsi = 250\n",
    "classes = get_classes_image_net()\n",
    "print(\"classe évalué : \", classes[cls])\n",
    "\n",
    "dataset = load()\n",
    "dataset = convertClassif2Ranking(dataset, cls=cls)\n",
    "x_train, y_train = dataset.x_train, dataset.y_train\n",
    "x_test, y_test = dataset.x_test, dataset.y_test\n",
    "\n",
    "name = \"../res/model_{}.bin\".format(classes[cls])\n",
    "classifier = model.GenericTrainingAlgorithm(dimpsi, struct_classe=RankingInstantiation, classe=model.RankingStructModel)\n",
    "classifier.load(name)\n",
    "\n",
    "baseline = lambda x : np.random.randint(0, 2, x.shape[0])\n",
    "acc = lambda pred, target : np.mean(pred == target)\n",
    "\n",
    "baseline_train = acc(baseline(x_train), y_train)\n",
    "baseline_test = acc(baseline(x_test), y_test)\n",
    "\n",
    "print(\"baselines : (train : {}, test : {})\".format(baseline_train, baseline_test))"
   ]
  },
  {
   "cell_type": "code",
   "execution_count": 3,
   "metadata": {},
   "outputs": [],
   "source": [
    "rank = classifier.predict(x_train)\n",
    "ranking = RankingOutput(rank, y_train)"
   ]
  },
  {
   "cell_type": "code",
   "execution_count": 4,
   "metadata": {},
   "outputs": [],
   "source": [
    "precision, recall = recall_precision(ranking)\n",
    "precision, recall = points_precision_recall(precision, recall)"
   ]
  },
  {
   "cell_type": "code",
   "execution_count": 5,
   "metadata": {},
   "outputs": [
    {
     "data": {
      "image/png": "[encoded data removed]",
      "text/plain": [
       "<Figure size 432x288 with 1 Axes>"
      ]
     },
     "metadata": {
      "needs_background": "light"
     },
     "output_type": "display_data"
    }
   ],
   "source": [
    "plot_precision_recall(precision, recall, baseline_train)"
   ]
  },
  {
   "cell_type": "code",
   "execution_count": 6,
   "metadata": {},
   "outputs": [
    {
     "data": {
      "text/plain": [
       "0.1067115924265857"
      ]
     },
     "execution_count": 6,
     "metadata": {},
     "output_type": "execute_result"
    }
   ],
   "source": [
    "precision, recall = recall_precision(ranking)\n",
    "average_precision(precision, recall)"
   ]
  },
  {
   "cell_type": "code",
   "execution_count": 7,
   "metadata": {},
   "outputs": [
    {
     "data": {
      "text/plain": [
       "(7200, 250)"
      ]
     },
     "execution_count": 7,
     "metadata": {},
     "output_type": "execute_result"
    }
   ],
   "source": [
    "x_train.shape"
   ]
  },
  {
   "cell_type": "code",
   "execution_count": 8,
   "metadata": {},
   "outputs": [
    {
     "data": {
      "text/plain": [
       "array([-1,  1, -1, ...,  1, -1, -1])"
      ]
     },
     "execution_count": 8,
     "metadata": {},
     "output_type": "execute_result"
    }
   ],
   "source": [
    "y_train"
   ]
  }
 ],
 "metadata": {
  "kernelspec": {
   "display_name": "Python 3",
   "language": "python",
   "name": "python3"
  },
  "language_info": {
   "codemirror_mode": {
    "name": "ipython",
    "version": 3
   },
   "file_extension": ".py",
   "mimetype": "text/x-python",
   "name": "python",
   "nbconvert_exporter": "python",
   "pygments_lexer": "ipython3",
   "version": "3.7.2"
  }
 },
 "nbformat": 4,
 "nbformat_minor": 2
}
