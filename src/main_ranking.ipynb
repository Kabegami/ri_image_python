{
 "cells": [
  {
   "cell_type": "code",
   "execution_count": 1,
   "metadata": {},
   "outputs": [],
   "source": [
    "from imageNetParser import get_features, get_classes_image_net\n",
    "from index import *\n",
    "import matplotlib.pyplot as plt\n",
    "import model\n",
    "from sklearn.decomposition import PCA\n",
    "from tools import accuracy, split, foreach, random_rank, random_labels, plot_confusion_matrix\n",
    "from sklearn.metrics import confusion_matrix\n",
    "from itertools import product\n",
    "from IStructInstantiation import *\n",
    "import numpy as np\n",
    "from ranking import *"
   ]
  },
  {
   "cell_type": "code",
   "execution_count": 14,
   "metadata": {},
   "outputs": [
    {
     "name": "stdout",
     "output_type": "stream",
     "text": [
      "classe évalué :  ambulance\n"
     ]
    }
   ],
   "source": [
    "cls=1\n",
    "dimpsi = 250\n",
    "nb_it = 1\n",
    "\n",
    "classes = get_classes_image_net()\n",
    "print(\"classe évalué : \", classes[cls])"
   ]
  },
  {
   "cell_type": "code",
   "execution_count": 3,
   "metadata": {},
   "outputs": [],
   "source": [
    "m = model.RankingStructModel(dimpsi)\n",
    "dataset = load()\n",
    "dataset = convertClassif2Ranking(dataset, cls=cls)\n",
    "x_train, y_train = dataset.x_train, dataset.y_train\n",
    "x_test, y_test = dataset.x_test, dataset.y_test\n"
   ]
  },
  {
   "cell_type": "code",
   "execution_count": 4,
   "metadata": {},
   "outputs": [
    {
     "name": "stdout",
     "output_type": "stream",
     "text": [
      "baselines : (train : 0.05597222222222222, test : 0.05912811090696509)\n"
     ]
    }
   ],
   "source": [
    "baseline = lambda x : np.random.randint(0, 2, x.shape[0])\n",
    "acc = lambda pred, target : np.mean(pred == target)\n",
    "\n",
    "baseline_train = acc(baseline(x_train), y_train)\n",
    "baseline_test = acc(baseline(x_test), y_test)\n",
    "\n",
    "print(\"baselines : (train : {}, test : {})\".format(baseline_train, baseline_test))"
   ]
  },
  {
   "cell_type": "code",
   "execution_count": 15,
   "metadata": {},
   "outputs": [
    {
     "name": "stderr",
     "output_type": "stream",
     "text": [
      "100%|██████████| 1/1 [01:29<00:00, 89.08s/it]\n"
     ]
    }
   ],
   "source": [
    "\n",
    "classifier = model.GenericTrainingAlgorithm(dimpsi, struct_classe=RankingInstantiation, classe=model.RankingStructModel)\n",
    "classifier.fit_ranking(dataset, nb_it=nb_it, alpha=1e-6, lr=10)"
   ]
  },
  {
   "cell_type": "code",
   "execution_count": 21,
   "metadata": {},
   "outputs": [
    {
     "ename": "TypeError",
     "evalue": "'numpy.float64' object is not callable",
     "output_type": "error",
     "traceback": [
      "\u001b[0;31m---------------------------------------------------------------------------\u001b[0m",
      "\u001b[0;31mTypeError\u001b[0m                                 Traceback (most recent call last)",
      "\u001b[0;32m<ipython-input-21-92bda15a16bb>\u001b[0m in \u001b[0;36m<module>\u001b[0;34m()\u001b[0m\n\u001b[1;32m      2\u001b[0m \u001b[0;31m# plot_precision_recall_curve(rank, y_train)\u001b[0m\u001b[0;34m\u001b[0m\u001b[0;34m\u001b[0m\u001b[0;34m\u001b[0m\u001b[0m\n\u001b[1;32m      3\u001b[0m \u001b[0mprecision\u001b[0m\u001b[0;34m,\u001b[0m \u001b[0mrecall\u001b[0m \u001b[0;34m=\u001b[0m \u001b[0mrecall_precision\u001b[0m\u001b[0;34m(\u001b[0m\u001b[0mranking\u001b[0m\u001b[0;34m)\u001b[0m\u001b[0;34m\u001b[0m\u001b[0;34m\u001b[0m\u001b[0m\n\u001b[0;32m----> 4\u001b[0;31m \u001b[0maverage_precision\u001b[0m\u001b[0;34m(\u001b[0m\u001b[0mrecall\u001b[0m\u001b[0;34m,\u001b[0m \u001b[0mprecision\u001b[0m\u001b[0;34m)\u001b[0m\u001b[0;34m\u001b[0m\u001b[0;34m\u001b[0m\u001b[0m\n\u001b[0m\u001b[1;32m      5\u001b[0m \u001b[0;31m# ranking = RankingOutput(rank, y_train)\u001b[0m\u001b[0;34m\u001b[0m\u001b[0;34m\u001b[0m\u001b[0;34m\u001b[0m\u001b[0m\n\u001b[1;32m      6\u001b[0m \u001b[0;31m# precision, recall = recall_precision(ranking)\u001b[0m\u001b[0;34m\u001b[0m\u001b[0;34m\u001b[0m\u001b[0;34m\u001b[0m\u001b[0m\n",
      "\u001b[0;31mTypeError\u001b[0m: 'numpy.float64' object is not callable"
     ]
    }
   ],
   "source": [
    "rank = classifier.predict(x_train)\n",
    "# plot_precision_recall_curve(rank, y_train)\n",
    "precision, recall = recall_precision(ranking)\n",
    "average_precision(recall, precision)\n",
    "# ranking = RankingOutput(rank, y_train)\n",
    "# precision, recall = recall_precision(ranking)\n",
    "# indexes = [i for i in range(len(precision))]\n",
    "\n",
    "# recall_points = [i / 10 for i in range(1, 11)]\n",
    "# i = 0\n",
    "# indices = []\n",
    "# for k, rec in enumerate(recall):\n",
    "#     if rec > recall_points[i]:\n",
    "#         indices.append(k)\n",
    "#         i += 1\n",
    "# if len(indices) != len(recall_points):\n",
    "#     indices.append(-1)\n",
    "# assert(len(indices) == len(recall_points))\n",
    "# prec_recall = [precision[i] / recall[i] for i in indices]"
   ]
  },
  {
   "cell_type": "code",
   "execution_count": 23,
   "metadata": {},
   "outputs": [
    {
     "data": {
      "image/png": "[encoded data removed]",
      "text/plain": [
       "<Figure size 432x288 with 1 Axes>"
      ]
     },
     "metadata": {
      "needs_background": "light"
     },
     "output_type": "display_data"
    }
   ],
   "source": [
    "plt.plot(recall_points, prec_recall, label=\"precision recall curve\")\n",
    "plt.plot(recall_points, [baseline_train for _ in range(len(recall_points))], label=\"baseline\")\n",
    "plt.xlabel(\"Recall\")\n",
    "plt.ylabel(\"Precision\")\n",
    "plt.title(\"Precision-Recall curve on train data\")\n",
    "plt.legend()\n",
    "plt.show()"
   ]
  },
  {
   "cell_type": "code",
   "execution_count": 24,
   "metadata": {},
   "outputs": [
    {
     "name": "stdout",
     "output_type": "stream",
     "text": [
      "AP :  0.10659477391980779\n"
     ]
    }
   ],
   "source": [
    "AP = average_precision(precision, recall)\n",
    "print(\"AP : \", AP)"
   ]
  },
  {
   "cell_type": "code",
   "execution_count": 25,
   "metadata": {},
   "outputs": [],
   "source": [
    "classifier.save()"
   ]
  },
  {
   "cell_type": "code",
   "execution_count": 5,
   "metadata": {},
   "outputs": [],
   "source": [
    "classifier = model.GenericTrainingAlgorithm(dimpsi, struct_classe=RankingInstantiation, classe=model.RankingStructModel)\n",
    "classifier.load()"
   ]
  },
  {
   "cell_type": "code",
   "execution_count": 36,
   "metadata": {},
   "outputs": [],
   "source": [
    "def points_precision_recall(precision, recall):\n",
    "    recall_points = [i / 10 for i in range(1, 11)]\n",
    "    indices = []\n",
    "    i =0\n",
    "    for k, rec in enumerate(recall):\n",
    "        if rec > recall_points[i]:\n",
    "            indices.append(k)\n",
    "            i += 1\n",
    "    if len(indices) != len(recall_points):\n",
    "        indices.append(-1)\n",
    "    assert(len(indices) == len(recall_points))\n",
    "    pr10, rec10 = zip(*[(precision[i], recall[i]) for i in indices])\n",
    "    pr10 = [1] + list(pr10)\n",
    "    rec10 = [0] + list(rec10)\n",
    "    return pr10, rec10"
   ]
  },
  {
   "cell_type": "code",
   "execution_count": 34,
   "metadata": {},
   "outputs": [],
   "source": [
    "rank = baseline(x_train)\n",
    "ranking = RankingOutput(rank, y_train)\n",
    "precision, recall = recall_precision(ranking)\n"
   ]
  },
  {
   "cell_type": "code",
   "execution_count": 38,
   "metadata": {},
   "outputs": [
    {
     "data": {
      "image/png": "[encoded data removed]",
      "text/plain": [
       "<Figure size 432x288 with 1 Axes>"
      ]
     },
     "metadata": {
      "needs_background": "light"
     },
     "output_type": "display_data"
    }
   ],
   "source": [
    "pr10, rec10 = points_precision_recall(precision, recall)\n",
    "plot_precision_recall(rec10, pr10, 0.05)"
   ]
  },
  {
   "cell_type": "code",
   "execution_count": 7,
   "metadata": {},
   "outputs": [],
   "source": [
    "rank = baseline(x_train)\n",
    "ranking = RankingOutput(rank, y_train)\n",
    "precision, recall = recall_precision(ranking)\n",
    "indexes = [i for i in range(len(precision))]\n",
    "\n",
    "recall_points = [i / 10 for i in range(1, 11)]\n",
    "i = 0\n",
    "indices = []\n",
    "for k, rec in enumerate(recall):\n",
    "    if rec > recall_points[i]:\n",
    "        indices.append(k)\n",
    "        i += 1\n",
    "if len(indices) != len(recall_points):\n",
    "    indices.append(-1)\n",
    "assert(len(indices) == len(recall_points))\n",
    "prec_recall = [precision[i] / recall[i] for i in indices]"
   ]
  },
  {
   "cell_type": "code",
   "execution_count": 36,
   "metadata": {},
   "outputs": [
    {
     "data": {
      "text/plain": [
       "[1.056803170409511,\n",
       " 0.5201560468140441,\n",
       " 0.3379805661174482,\n",
       " 0.2651640702684786,\n",
       " 0.20833333333333334,\n",
       " 0.1766394347538088,\n",
       " 0.1515151515151515,\n",
       " 0.13418316001341832,\n",
       " 0.12050007531254707,\n",
       " 0.1111111111111111]"
      ]
     },
     "execution_count": 36,
     "metadata": {},
     "output_type": "execute_result"
    }
   ],
   "source": [
    "prec_recall"
   ]
  },
  {
   "cell_type": "code",
   "execution_count": 29,
   "metadata": {},
   "outputs": [],
   "source": [
    "def plot_precision_recall(recall_points, prec, baseline):\n",
    "    plt.plot(recall_points, prec, label=\"precision recall curve\")\n",
    "    plt.plot(recall_points, [baseline for _ in range(len(recall_points))], label=\"baseline\")\n",
    "    plt.xlabel(\"Recall\")\n",
    "    plt.ylabel(\"Precision\")\n",
    "    plt.title(\"Precision-Recall curve on train data\")\n",
    "    plt.legend()\n",
    "    plt.show()"
   ]
  },
  {
   "cell_type": "code",
   "execution_count": 28,
   "metadata": {},
   "outputs": [
    {
     "name": "stdout",
     "output_type": "stream",
     "text": [
      "AP :  0.10665147690484358\n"
     ]
    }
   ],
   "source": [
    "AP = average_precision(precision, recall)\n",
    "print(\"AP : \", AP)"
   ]
  },
  {
   "cell_type": "code",
   "execution_count": 32,
   "metadata": {},
   "outputs": [],
   "source": [
    "def mean(it):\n",
    "    return sum(it) / len(it)"
   ]
  },
  {
   "cell_type": "code",
   "execution_count": 33,
   "metadata": {},
   "outputs": [
    {
     "data": {
      "text/plain": [
       "0.10605304733703282"
      ]
     },
     "execution_count": 33,
     "metadata": {},
     "output_type": "execute_result"
    }
   ],
   "source": [
    "mean(precision)"
   ]
  },
  {
   "cell_type": "code",
   "execution_count": 40,
   "metadata": {},
   "outputs": [
    {
     "data": {
      "text/plain": [
       "0.10659477391980772"
      ]
     },
     "execution_count": 40,
     "metadata": {},
     "output_type": "execute_result"
    }
   ],
   "source": [
    "from sklearn import metrics\n",
    "metrics.auc(recall, precision)"
   ]
  }
 ],
 "metadata": {
  "kernelspec": {
   "display_name": "Python 3",
   "language": "python",
   "name": "python3"
  },
  "language_info": {
   "codemirror_mode": {
    "name": "ipython",
    "version": 3
   },
   "file_extension": ".py",
   "mimetype": "text/x-python",
   "name": "python",
   "nbconvert_exporter": "python",
   "pygments_lexer": "ipython3",
   "version": "3.7.2"
  }
 },
 "nbformat": 4,
 "nbformat_minor": 2
}
